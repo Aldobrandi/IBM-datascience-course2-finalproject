{
 "cells": [
  {
   "cell_type": "markdown",
   "id": "887ba2a6-3c4c-47d0-9bff-15adabdd488c",
   "metadata": {},
   "source": [
    "<center>\n",
    "    <img src=\"https://cf-courses-data.s3.us.cloud-object-storage.appdomain.cloud/IBMDeveloperSkillsNetwork-DS0105EN-SkillsNetwork/labs/Module2/images/SN_web_lightmode.png\" width=\"300\" alt=\"cognitiveclass.ai logo\">\n",
    "</center>"
   ]
  },
  {
   "cell_type": "markdown",
   "id": "0b268b06-114c-4cd7-95f6-994f28bcb666",
   "metadata": {
    "tags": []
   },
   "source": [
    "# Data Science Tools and Ecosystem"
   ]
  },
  {
   "cell_type": "markdown",
   "id": "20aaa6b5-4a11-484d-9e77-71ba97f43730",
   "metadata": {},
   "source": [
    "In this notebook, Data Science Tools and Ecosystem are summarized."
   ]
  },
  {
   "cell_type": "markdown",
   "id": "0100e335-e380-46ef-bc7d-fdf1f34e3877",
   "metadata": {
    "tags": []
   },
   "source": [
    "**Some of the popular languages that Data Scientists use are:**\n",
    "1. Python\n",
    "2. R\n",
    "3. Julia\n",
    "4. JavaScript\n",
    "5. Java\n",
    "6. Scala"
   ]
  },
  {
   "cell_type": "markdown",
   "id": "4ea99b64-f306-45dc-994b-a4a21a7406f6",
   "metadata": {
    "tags": []
   },
   "source": [
    "**Some of the commonly used libraries used by Data Scientists include:**\n",
    "1. Pandas\n",
    "2. Scikit-learn\n",
    "3. Matplotlib\n",
    "4. PyTorch\n",
    "5. Plotly"
   ]
  },
  {
   "cell_type": "markdown",
   "id": "87fc0dee-eedb-47e4-b4bf-549036cdc27f",
   "metadata": {},
   "source": [
    "**Table of common Data Science tools**\n",
    "\n",
    "|**Tool**|\n",
    "|--------|\n",
    "|Anaconda|\n",
    "|Jupyter notebooks|\n",
    "|JupyterLab|\n",
    "\n"
   ]
  },
  {
   "cell_type": "markdown",
   "id": "727de84a-6ca6-4504-9628-b2312b3e869a",
   "metadata": {
    "tags": []
   },
   "source": [
    "### Below are a few examples of evaluating arithmetic expressions in Python\n",
    "\n",
    "Some examples of arithmetic expressions:<br>\n",
    "<code>(3*4)+5</code>\n",
    "<br>\n",
    "<code>1/6</code>\n",
    "<br>\n",
    "<code>1.23 * 71.6</code>"
   ]
  },
  {
   "cell_type": "code",
   "execution_count": 2,
   "id": "f74fc788-3c04-4056-b19f-33dc970a2f9b",
   "metadata": {
    "tags": []
   },
   "outputs": [
    {
     "data": {
      "text/plain": [
       "17"
      ]
     },
     "execution_count": 2,
     "metadata": {},
     "output_type": "execute_result"
    }
   ],
   "source": [
    "# This a simple arithmetic expression to mutiply then add integers\n",
    "(3*4)+5"
   ]
  },
  {
   "cell_type": "code",
   "execution_count": 6,
   "id": "aaf86d9d-ad22-4033-8dd9-6295d221d04d",
   "metadata": {
    "tags": []
   },
   "outputs": [
    {
     "name": "stdout",
     "output_type": "stream",
     "text": [
      "The duration of 200 minutes in hours is: 3.3333333333333335 hours\n"
     ]
    }
   ],
   "source": [
    "# This will convert 200 minutes to hours by diving by 60\n",
    "minutes_in_hour = 60\n",
    "duration = 200\n",
    "print(f\"The duration of {duration} minutes in hours is: {duration/ minutes_in_hour} hours\")"
   ]
  },
  {
   "cell_type": "markdown",
   "id": "1074cc3e-0616-4b81-9075-24b08f85744b",
   "metadata": {},
   "source": [
    "**Objectives covered in this notebook**\n",
    "- List popular languages for Data Science\n",
    "- List commonly used libraries used by Data Scientists\n",
    "- List of common Data Science tools\n",
    "- Understanding how to evaluate simple arithmetic expressions in python\n",
    "- Creating new markdown and code cells\n",
    "- etc."
   ]
  },
  {
   "cell_type": "markdown",
   "id": "136445df-bb28-4b20-ad96-086942829ff4",
   "metadata": {},
   "source": [
    "## Author\n",
    "Jerome Quelin\n"
   ]
  },
  {
   "cell_type": "code",
   "execution_count": null,
   "id": "831b7ccc-f477-4756-965c-bea8d8a84039",
   "metadata": {},
   "outputs": [],
   "source": []
  }
 ],
 "metadata": {
  "kernelspec": {
   "display_name": "Python 3 (ipykernel)",
   "language": "python",
   "name": "python3"
  },
  "language_info": {
   "codemirror_mode": {
    "name": "ipython",
    "version": 3
   },
   "file_extension": ".py",
   "mimetype": "text/x-python",
   "name": "python",
   "nbconvert_exporter": "python",
   "pygments_lexer": "ipython3",
   "version": "3.11.5"
  }
 },
 "nbformat": 4,
 "nbformat_minor": 5
}
